{
  "nbformat": 4,
  "nbformat_minor": 0,
  "metadata": {
    "colab": {
      "provenance": [],
      "authorship_tag": "ABX9TyMxZ4n6H9SGAlEDzu0OohdP"
    },
    "kernelspec": {
      "name": "python3",
      "display_name": "Python 3"
    },
    "language_info": {
      "name": "python"
    }
  },
  "cells": [
    {
      "cell_type": "code",
      "source": [
        "# Librerías\n",
        "import cv2\n",
        "import numpy as np\n",
        "from google.colab.patches import cv2_imshow"
      ],
      "metadata": {
        "id": "r-QDbgkgzwwZ"
      },
      "execution_count": null,
      "outputs": []
    },
    {
      "cell_type": "code",
      "source": [
        "# Dimensiones de las imágenes\n",
        "w = 300\n",
        "h = 300"
      ],
      "metadata": {
        "id": "RzZrO-tEz1Kg"
      },
      "execution_count": null,
      "outputs": []
    },
    {
      "cell_type": "code",
      "source": [
        "# Imagen 1\n",
        "im_1 = np.zeros((w, h), np.uint8)\n",
        "\n",
        "for i in range (w): im_1[i, i] = 255\n",
        "\n",
        "cv2_imshow(im_1)"
      ],
      "metadata": {
        "colab": {
          "base_uri": "https://localhost:8080/",
          "height": 317
        },
        "id": "75x3mkW_0E2C",
        "outputId": "ab6a8f7f-c4e5-4bd1-ce8e-e2df9a4c2253"
      },
      "execution_count": null,
      "outputs": [
        {
          "output_type": "display_data",
          "data": {
            "text/plain": [
              "<PIL.Image.Image image mode=L size=300x300>"
            ],
            "image/png": "[encoded data removed]"
          },
          "metadata": {}
        }
      ]
    },
    {
      "cell_type": "code",
      "source": [
        "# Imagen 2\n",
        "im_2 = np.zeros((w, h, 3), np.uint8)\n",
        "\n",
        "for i in range(w): im_2[90:210, 90:210] = (0, 0, 255)\n",
        "for i in range(w): im_2[105:195, 105:195] = (0, 255, 0)\n",
        "for i in range(w): im_2[120:180, 120:180] = (255, 0, 0)\n",
        "for i in range(w): im_2[135:165, 135:165] = (0, 0, 0)\n",
        "\n",
        "cv2_imshow(im_2)"
      ],
      "metadata": {
        "colab": {
          "base_uri": "https://localhost:8080/",
          "height": 317
        },
        "id": "XTz04NJF0T2M",
        "outputId": "8713a041-688e-47a9-ee6d-c62d8312233f"
      },
      "execution_count": null,
      "outputs": [
        {
          "output_type": "display_data",
          "data": {
            "text/plain": [
              "<PIL.Image.Image image mode=RGB size=300x300>"
            ],
            "image/png": "[encoded data removed]"
          },
          "metadata": {}
        }
      ]
    },
    {
      "cell_type": "code",
      "source": [
        "# Crear una imagen en blanco\n",
        "im_3 = np.zeros((h, w, 3), np.uint8)\n",
        "\n",
        "\n",
        "num_lines = 10\n",
        "frequency = 20  # Frecuencia de la onda seno\n",
        "\n",
        "# Dibujar las líneas horizontales que siguen una función seno\n",
        "for i in range(num_lines):\n",
        "    amplitude = int(h / (50))  # La amplitud de la línea varía con la frecuencia\n",
        "    y_offset = h // (num_lines + 1) * (i + 1)\n",
        "\n",
        "    # Generar puntos basados en la función seno\n",
        "    x = np.arange(0, w)\n",
        "    y = amplitude * np.sin(2 * np.pi * frequency * x / w) + y_offset\n",
        "\n",
        "    # Convertir los puntos a enteros\n",
        "    points = np.column_stack((x, y)).astype(np.int32)\n",
        "\n",
        "    # Calcular un color degradado\n",
        "    color_start = (255, 0, 0)  # Color inicial (azul)\n",
        "    color_end = (0, 0, 255)    # Color final (rojo)\n",
        "    color = tuple(int(start + (end - start) * i / num_lines) for start, end in zip(color_start, color_end))\n",
        "\n",
        "    # Dibujar la línea\n",
        "    cv2.polylines(im_3, [points], isClosed=False, color=color, thickness=1)\n",
        "\n",
        "# Mostrar la imagen\n",
        "cv2_imshow(im_3)"
      ],
      "metadata": {
        "colab": {
          "base_uri": "https://localhost:8080/",
          "height": 317
        },
        "id": "PvY1PYlhxdd2",
        "outputId": "2449c36b-5ee6-4dae-aa40-ae27dff71852"
      },
      "execution_count": null,
      "outputs": [
        {
          "output_type": "display_data",
          "data": {
            "text/plain": [
              "<PIL.Image.Image image mode=RGB size=300x300>"
            ],
            "image/png": "[encoded data removed]"
          },
          "metadata": {}
        }
      ]
    }
  ]
}
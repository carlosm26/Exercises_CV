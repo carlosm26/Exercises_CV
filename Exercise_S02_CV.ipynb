{
  "nbformat": 4,
  "nbformat_minor": 0,
  "metadata": {
    "colab": {
      "provenance": [],
      "authorship_tag": "ABX9TyPpzdG0UIMXMjHOTxRJ05An"
    },
    "kernelspec": {
      "name": "python3",
      "display_name": "Python 3"
    },
    "language_info": {
      "name": "python"
    }
  },
  "cells": [
    {
      "source": [
        "import numpy as np\n",
        "import cv2 as cv\n",
        "from google.colab.patches import cv2_imshow\n",
        "\n",
        "def draw_triangle(im, triangle, color=(0,255,0)):\n",
        "    triangle = np.array([ v[:-1]/v[-1] for v in triangle] , np.uint16)\n",
        "    cv.drawContours(im, [triangle.astype(int)], 0, color, -1)\n",
        "    for v in triangle:\n",
        "        cv.circle(im, tuple(v), 2, (255,0,255),-1)\n",
        "\n",
        "def scale(vertex, sx, sy):\n",
        "    scale_matrix = np.array([[sx, 0, 0], [0, sy, 0], [0, 0, 1]])\n",
        "    return np.dot(scale_matrix, vertex.T).T\n",
        "\n",
        "def rotate(vertex, a):\n",
        "    rad = np.deg2rad(a)\n",
        "    rotate_matrix = np.array([[np.cos(rad), -np.sin(rad), 0], [np.sin(rad), np.cos(rad), 0], [0, 0, 1]])\n",
        "    return np.dot(rotate_matrix, vertex.T).T\n",
        "\n",
        "def translate(vertex, dx, dy):\n",
        "    translate_matrix = np.array([[1, 0, dx], [0, 1, dy], [0, 0, 1]])\n",
        "    return np.dot(translate_matrix, vertex.T).T\n",
        "\n",
        "w = 500\n",
        "h = 500\n",
        "im = np.zeros((h,w,3), np.uint8)\n",
        "\n",
        "angle = 30\n",
        "s = 3\n",
        "t = 250\n",
        "\n",
        "triangle1 = np.array( [[10,10,1], [70,10,1], [40, 60,1]])\n",
        "triangle2 = translate(rotate(scale(translate(triangle1, -40,-30),s,s), angle), t,t)\n",
        "\n",
        "draw_triangle(im, triangle1)\n",
        "draw_triangle(im, triangle2, color= (250,100,100))\n",
        "\n",
        "cv2_imshow(im)"
      ],
      "cell_type": "code",
      "metadata": {
        "colab": {
          "base_uri": "https://localhost:8080/",
          "height": 517
        },
        "id": "xFxDfM1Z_yrw",
        "outputId": "48e1ec72-c513-4e8a-f3ab-756e3d995087"
      },
      "execution_count": null,
      "outputs": [
        {
          "output_type": "display_data",
          "data": {
            "text/plain": [
              "<PIL.Image.Image image mode=RGB size=500x500>"
            ],
            "image/png": "[encoded data removed]"
          },
          "metadata": {}
        }
      ]
    }
  ]
}
